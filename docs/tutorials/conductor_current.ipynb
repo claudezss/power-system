{
 "cells": [
  {
   "cell_type": "markdown",
   "source": "# IEEE Standard for Calculating the Current-Temperature Relationship of Bare Overhead Conductors\n",
   "metadata": {
    "collapsed": false
   }
  },
  {
   "cell_type": "markdown",
   "source": [
    "# IEEE Standard\n",
    "\n",
    "IEEE Std 738TM-2023\n",
    "\n",
    "A numerical method by which the core and surface temperatures of a bare overhead conductor are related to the steady or time-varying electrical current and weather conditions is described in this standard. Contents discussed also include how this method may be used to determine the conductor’s current for a corresponding conductor temperature limit. Please note the content in this standard does not recommend suitable weather conditions or conductor parameters for use in line rating calculations.\n"
   ],
   "metadata": {
    "collapsed": false
   }
  },
  {
   "metadata": {},
   "cell_type": "markdown",
   "source": "# Samples"
  },
  {
   "cell_type": "code",
   "source": [
    "from pyohm.models.conductor import Conductor\n",
    "import pandas as pd\n",
    "\n",
    "conductor = Conductor()\n",
    "\n",
    "conductor.use_default()\n",
    "\n",
    "results  = {\"temperature\": [], \"current\": []}\n",
    "\n",
    "for idx, t in enumerate(range(80, 150)):\n",
    "    conductor.conductor_surface_temperature = t\n",
    "    results[\"temperature\"].append(t)\n",
    "    results[\"current\"].append(conductor.I)\n",
    "\n",
    "results = pd.DataFrame(results)"
   ],
   "metadata": {
    "collapsed": false,
    "ExecuteTime": {
     "end_time": "2024-05-04T20:03:22.656295Z",
     "start_time": "2024-05-04T20:03:22.649613Z"
    }
   },
   "outputs": [],
   "execution_count": 11
  },
  {
   "metadata": {
    "ExecuteTime": {
     "end_time": "2024-05-04T20:03:23.434776Z",
     "start_time": "2024-05-04T20:03:23.427632Z"
    }
   },
   "cell_type": "code",
   "source": "results",
   "outputs": [
    {
     "data": {
      "text/plain": [
       "    temperature      current\n",
       "0            80   797.488522\n",
       "1            81   810.817290\n",
       "2            82   823.889336\n",
       "3            83   836.717305\n",
       "4            84   849.312852\n",
       "..          ...          ...\n",
       "65          145  1387.953355\n",
       "66          146  1394.690449\n",
       "67          147  1401.388181\n",
       "68          148  1408.047301\n",
       "69          149  1414.668538\n",
       "\n",
       "[70 rows x 2 columns]"
      ],
      "text/html": [
       "<div>\n",
       "<style scoped>\n",
       "    .dataframe tbody tr th:only-of-type {\n",
       "        vertical-align: middle;\n",
       "    }\n",
       "\n",
       "    .dataframe tbody tr th {\n",
       "        vertical-align: top;\n",
       "    }\n",
       "\n",
       "    .dataframe thead th {\n",
       "        text-align: right;\n",
       "    }\n",
       "</style>\n",
       "<table border=\"1\" class=\"dataframe\">\n",
       "  <thead>\n",
       "    <tr style=\"text-align: right;\">\n",
       "      <th></th>\n",
       "      <th>temperature</th>\n",
       "      <th>current</th>\n",
       "    </tr>\n",
       "  </thead>\n",
       "  <tbody>\n",
       "    <tr>\n",
       "      <th>0</th>\n",
       "      <td>80</td>\n",
       "      <td>797.488522</td>\n",
       "    </tr>\n",
       "    <tr>\n",
       "      <th>1</th>\n",
       "      <td>81</td>\n",
       "      <td>810.817290</td>\n",
       "    </tr>\n",
       "    <tr>\n",
       "      <th>2</th>\n",
       "      <td>82</td>\n",
       "      <td>823.889336</td>\n",
       "    </tr>\n",
       "    <tr>\n",
       "      <th>3</th>\n",
       "      <td>83</td>\n",
       "      <td>836.717305</td>\n",
       "    </tr>\n",
       "    <tr>\n",
       "      <th>4</th>\n",
       "      <td>84</td>\n",
       "      <td>849.312852</td>\n",
       "    </tr>\n",
       "    <tr>\n",
       "      <th>...</th>\n",
       "      <td>...</td>\n",
       "      <td>...</td>\n",
       "    </tr>\n",
       "    <tr>\n",
       "      <th>65</th>\n",
       "      <td>145</td>\n",
       "      <td>1387.953355</td>\n",
       "    </tr>\n",
       "    <tr>\n",
       "      <th>66</th>\n",
       "      <td>146</td>\n",
       "      <td>1394.690449</td>\n",
       "    </tr>\n",
       "    <tr>\n",
       "      <th>67</th>\n",
       "      <td>147</td>\n",
       "      <td>1401.388181</td>\n",
       "    </tr>\n",
       "    <tr>\n",
       "      <th>68</th>\n",
       "      <td>148</td>\n",
       "      <td>1408.047301</td>\n",
       "    </tr>\n",
       "    <tr>\n",
       "      <th>69</th>\n",
       "      <td>149</td>\n",
       "      <td>1414.668538</td>\n",
       "    </tr>\n",
       "  </tbody>\n",
       "</table>\n",
       "<p>70 rows × 2 columns</p>\n",
       "</div>"
      ]
     },
     "execution_count": 12,
     "metadata": {},
     "output_type": "execute_result"
    }
   ],
   "execution_count": 12
  },
  {
   "metadata": {
    "ExecuteTime": {
     "end_time": "2024-05-04T20:03:57.560588Z",
     "start_time": "2024-05-04T20:03:57.461294Z"
    }
   },
   "cell_type": "code",
   "source": "results.plot(x=\"temperature\", y=\"current\", kind=\"line\", grid=True, label=\"Current\")",
   "outputs": [
    {
     "data": {
      "text/plain": [
       "<Axes: xlabel='temperature'>"
      ]
     },
     "execution_count": 15,
     "metadata": {},
     "output_type": "execute_result"
    },
    {
     "data": {
      "text/plain": [
       "<Figure size 640x480 with 1 Axes>"
      ],
      "image/png": "[encoded data removed]"
     },
     "metadata": {},
     "output_type": "display_data"
    }
   ],
   "execution_count": 15
  },
  {
   "metadata": {},
   "cell_type": "code",
   "outputs": [],
   "execution_count": null,
   "source": ""
  }
 ],
 "metadata": {
  "kernelspec": {
   "display_name": "Python 3",
   "language": "python",
   "name": "python3"
  },
  "language_info": {
   "codemirror_mode": {
    "name": "ipython",
    "version": 2
   },
   "file_extension": ".py",
   "mimetype": "text/x-python",
   "name": "python",
   "nbconvert_exporter": "python",
   "pygments_lexer": "ipython2",
   "version": "2.7.6"
  }
 },
 "nbformat": 4,
 "nbformat_minor": 0
}
